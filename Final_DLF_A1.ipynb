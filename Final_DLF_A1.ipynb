{
 "cells": [
  {
   "cell_type": "markdown",
   "metadata": {},
   "source": []
  },
  {
   "cell_type": "markdown",
   "metadata": {},
   "source": [
    "## Data Preprocessing"
   ]
  },
  {
   "cell_type": "code",
   "execution_count": 1,
   "metadata": {},
   "outputs": [
    {
     "name": "stdout",
     "output_type": "stream",
     "text": [
      "   0             1            2            3            4            5  \\\n",
      "0 -1   1:-0.294118   2:0.487437   3:0.180328  4:-0.292929         5:-1   \n",
      "1  1   1:-0.882353  2:-0.145729  3:0.0819672  4:-0.414141         5:-1   \n",
      "2 -1  1:-0.0588235   2:0.839196  3:0.0491803         4:-1         5:-1   \n",
      "3  1   1:-0.882353  2:-0.105528  3:0.0819672  4:-0.535354  5:-0.777778   \n",
      "4 -1          1:-1   2:0.376884  3:-0.344262  4:-0.292929  5:-0.602837   \n",
      "\n",
      "              6            7             8   9  \n",
      "0  6:0.00149028   7:-0.53117  8:-0.0333333 NaN  \n",
      "1   6:-0.207153  7:-0.766866   8:-0.666667 NaN  \n",
      "2   6:-0.305514  7:-0.492741   8:-0.633333 NaN  \n",
      "3   6:-0.162444  7:-0.923997          8:-1 NaN  \n",
      "4     6:0.28465   7:0.887276        8:-0.6 NaN  \n",
      "Dataset shape: (768, 10)\n"
     ]
    }
   ],
   "source": [
    "# Import necessary libraries\n",
    "import pandas as pd\n",
    "from sklearn.model_selection import train_test_split\n",
    "\n",
    "# Define the path to your dataset\n",
    "file_path = '/Users/chayonimeu/Documents/GitHub/DLF_Perceptron-to-predict-diabetes/diabetes_scale.txt'\n",
    "\n",
    "# Load the dataset into a pandas DataFrame (space-separated)\n",
    "data = pd.read_csv(file_path, delimiter=' ', header=None)\n",
    "\n",
    "# Inspect the first few rows and the shape of the dataset to understand its structure\n",
    "print(data.head())  # Display the first few rows\n",
    "print(f'Dataset shape: {data.shape}')  # Check the dataset dimensions"
   ]
  },
  {
   "cell_type": "markdown",
   "metadata": {},
   "source": [
    "### Cleaning the Dataset"
   ]
  },
  {
   "cell_type": "code",
   "execution_count": 2,
   "metadata": {},
   "outputs": [
    {
     "name": "stdout",
     "output_type": "stream",
     "text": [
      "   Label         1         2         3         4         5         6  \\\n",
      "0     -1 -0.294118  0.487437  0.180328 -0.292929 -1.000000  0.001490   \n",
      "1      1 -0.882353 -0.145729  0.081967 -0.414141 -1.000000 -0.207153   \n",
      "2     -1 -0.058824  0.839196  0.049180 -1.000000 -1.000000 -0.305514   \n",
      "3      1 -0.882353 -0.105528  0.081967 -0.535354 -0.777778 -0.162444   \n",
      "4     -1 -1.000000  0.376884 -0.344262 -0.292929 -0.602837  0.284650   \n",
      "\n",
      "          7         8   9  \n",
      "0 -0.531170 -0.033333 NaN  \n",
      "1 -0.766866 -0.666667 NaN  \n",
      "2 -0.492741 -0.633333 NaN  \n",
      "3 -0.923997 -1.000000 NaN  \n",
      "4  0.887276 -0.600000 NaN  \n",
      "Cleaned data shape: (768, 10)\n"
     ]
    },
    {
     "name": "stderr",
     "output_type": "stream",
     "text": [
      "/var/folders/cl/hsgv1fnd1_v1_4fffg7rml400000gn/T/ipykernel_5071/3481055937.py:3: FutureWarning: DataFrame.applymap has been deprecated. Use DataFrame.map instead.\n",
      "  cleaned_data = data.applymap(lambda x: float(str(x).split(':')[-1]) if isinstance(x, str) and ':' in x else x)\n"
     ]
    }
   ],
   "source": [
    "# Function to clean the feature columns by removing the index prefixes like '1:', '2:', etc.\n",
    "def clean_data(data):\n",
    "    cleaned_data = data.applymap(lambda x: float(str(x).split(':')[-1]) if isinstance(x, str) and ':' in x else x)\n",
    "    return cleaned_data\n",
    "\n",
    "# Apply the cleaning function to the entire dataset, except the first column (labels)\n",
    "cleaned_data = clean_data(data.iloc[:, 1:])\n",
    "\n",
    "# Reattach the label column (first column) to the cleaned dataset\n",
    "cleaned_data.insert(0, 'Label', data.iloc[:, 0])\n",
    "\n",
    "# Inspect the cleaned dataset to ensure no data is lost\n",
    "print(cleaned_data.head())\n",
    "print(f'Cleaned data shape: {cleaned_data.shape}')"
   ]
  },
  {
   "cell_type": "code",
   "execution_count": 3,
   "metadata": {},
   "outputs": [
    {
     "name": "stdout",
     "output_type": "stream",
     "text": [
      "   Label         1         2         3         4         5         6  \\\n",
      "0     -1 -0.294118  0.487437  0.180328 -0.292929 -1.000000  0.001490   \n",
      "1      1 -0.882353 -0.145729  0.081967 -0.414141 -1.000000 -0.207153   \n",
      "2     -1 -0.058824  0.839196  0.049180 -1.000000 -1.000000 -0.305514   \n",
      "3      1 -0.882353 -0.105528  0.081967 -0.535354 -0.777778 -0.162444   \n",
      "4     -1 -1.000000  0.376884 -0.344262 -0.292929 -0.602837  0.284650   \n",
      "\n",
      "          7         8  \n",
      "0 -0.531170 -0.033333  \n",
      "1 -0.766866 -0.666667  \n",
      "2 -0.492741 -0.633333  \n",
      "3 -0.923997 -1.000000  \n",
      "4  0.887276 -0.600000  \n",
      "Cleaned data shape: (768, 9)\n"
     ]
    }
   ],
   "source": [
    "# Remove the last column (column 9) that contains only NaN values\n",
    "cleaned_data = cleaned_data.drop(columns=[9])\n",
    "\n",
    "# Verify the result to ensure only the last column has been removed\n",
    "print(cleaned_data.head())\n",
    "print(f'Cleaned data shape: {cleaned_data.shape}')  # Should now have 9 columns (1 Label + 8 Features)"
   ]
  },
  {
   "cell_type": "markdown",
   "metadata": {},
   "source": [
    "### Splitting the Cleaned Dataset"
   ]
  },
  {
   "cell_type": "code",
   "execution_count": 4,
   "metadata": {},
   "outputs": [
    {
     "name": "stdout",
     "output_type": "stream",
     "text": [
      "Cleaned Training set size: (614, 8)\n",
      "Cleaned Test set size: (154, 8)\n"
     ]
    }
   ],
   "source": [
    "from sklearn.model_selection import train_test_split\n",
    "\n",
    "# Separate features (X) and labels (y)\n",
    "X_cleaned = cleaned_data.iloc[:, 1:]  # Features (all columns except the first one)\n",
    "y_cleaned = cleaned_data['Label']     # Labels (the first column)\n",
    "\n",
    "# Split the cleaned data into training and test sets (80% training, 20% test)\n",
    "X_train_cleaned, X_test_cleaned, y_train_cleaned, y_test_cleaned = train_test_split(X_cleaned, y_cleaned, test_size=0.2, random_state=42)\n",
    "\n",
    "# Check the dimensions of the cleaned training and test sets\n",
    "print(f'Cleaned Training set size: {X_train_cleaned.shape}')\n",
    "print(f'Cleaned Test set size: {X_test_cleaned.shape}')"
   ]
  },
  {
   "cell_type": "markdown",
   "metadata": {},
   "source": [
    "### Handling Missing Values"
   ]
  },
  {
   "cell_type": "code",
   "execution_count": 5,
   "metadata": {},
   "outputs": [
    {
     "name": "stdout",
     "output_type": "stream",
     "text": [
      "1    0\n",
      "2    0\n",
      "3    0\n",
      "4    0\n",
      "5    0\n",
      "6    0\n",
      "7    0\n",
      "8    8\n",
      "dtype: int64\n"
     ]
    }
   ],
   "source": [
    "# Check for any missing values in the dataset\n",
    "print(X_train_cleaned.isna().sum())\n",
    "\n",
    "# If there are any missing values, handle them using SimpleImputer\n",
    "from sklearn.impute import SimpleImputer\n",
    "\n",
    "# Initialize the imputer to fill missing values with the mean of each column\n",
    "imputer = SimpleImputer(strategy='mean')\n",
    "\n",
    "# Apply the imputer to the training and test sets\n",
    "X_train_cleaned_imputed = imputer.fit_transform(X_train_cleaned)\n",
    "X_test_cleaned_imputed = imputer.transform(X_test_cleaned)"
   ]
  },
  {
   "cell_type": "markdown",
   "metadata": {},
   "source": [
    "## Implementing a Baseline Linear Model"
   ]
  },
  {
   "cell_type": "code",
   "execution_count": 6,
   "metadata": {},
   "outputs": [
    {
     "name": "stdout",
     "output_type": "stream",
     "text": [
      "Baseline Logistic Regression Accuracy: 75.32%\n",
      "Classification Report for Baseline Logistic Regression:\n",
      "              precision    recall  f1-score   support\n",
      "\n",
      "          -1       0.65      0.65      0.65        55\n",
      "           1       0.81      0.81      0.81        99\n",
      "\n",
      "    accuracy                           0.75       154\n",
      "   macro avg       0.73      0.73      0.73       154\n",
      "weighted avg       0.75      0.75      0.75       154\n",
      "\n"
     ]
    }
   ],
   "source": [
    "from sklearn.linear_model import LogisticRegression\n",
    "from sklearn.metrics import accuracy_score, classification_report\n",
    "\n",
    "# Initialize the logistic regression model\n",
    "logistic_model = LogisticRegression()\n",
    "\n",
    "# Train the logistic regression model on the imputed training set\n",
    "logistic_model.fit(X_train_cleaned_imputed, y_train_cleaned)\n",
    "\n",
    "# Predict on the imputed test set\n",
    "y_pred_baseline = logistic_model.predict(X_test_cleaned_imputed)\n",
    "\n",
    "# Evaluate the baseline model\n",
    "accuracy_baseline = accuracy_score(y_test_cleaned, y_pred_baseline)\n",
    "print(f'Baseline Logistic Regression Accuracy: {accuracy_baseline * 100:.2f}%')\n",
    "\n",
    "# Display classification report for more detailed metrics\n",
    "print(\"Classification Report for Baseline Logistic Regression:\")\n",
    "print(classification_report(y_test_cleaned, y_pred_baseline))"
   ]
  },
  {
   "cell_type": "markdown",
   "metadata": {},
   "source": [
    "## Implementing the Perceptron Algorithm"
   ]
  },
  {
   "cell_type": "code",
   "execution_count": 7,
   "metadata": {},
   "outputs": [
    {
     "name": "stdout",
     "output_type": "stream",
     "text": [
      "Perceptron Algorithm Accuracy: 79.22%\n",
      "Classification Report for Perceptron Algorithm:\n",
      "              precision    recall  f1-score   support\n",
      "\n",
      "          -1       0.76      0.62      0.68        55\n",
      "           1       0.81      0.89      0.85        99\n",
      "\n",
      "    accuracy                           0.79       154\n",
      "   macro avg       0.78      0.75      0.76       154\n",
      "weighted avg       0.79      0.79      0.79       154\n",
      "\n"
     ]
    }
   ],
   "source": [
    "from sklearn.linear_model import Perceptron\n",
    "\n",
    "# Initialize the Perceptron model\n",
    "perceptron_model = Perceptron()\n",
    "\n",
    "# Train the Perceptron model on the imputed training set\n",
    "perceptron_model.fit(X_train_cleaned_imputed, y_train_cleaned)\n",
    "\n",
    "# Predict on the imputed test set\n",
    "y_pred_perceptron = perceptron_model.predict(X_test_cleaned_imputed)\n",
    "\n",
    "# Evaluate the Perceptron model\n",
    "accuracy_perceptron = accuracy_score(y_test_cleaned, y_pred_perceptron)\n",
    "print(f'Perceptron Algorithm Accuracy: {accuracy_perceptron * 100:.2f}%')\n",
    "\n",
    "# Display classification report for Perceptron model\n",
    "print(\"Classification Report for Perceptron Algorithm:\")\n",
    "print(classification_report(y_test_cleaned, y_pred_perceptron))"
   ]
  },
  {
   "cell_type": "markdown",
   "metadata": {},
   "source": [
    "### Hyperparameter Tuning for Perceptron"
   ]
  },
  {
   "cell_type": "code",
   "execution_count": 8,
   "metadata": {},
   "outputs": [
    {
     "name": "stdout",
     "output_type": "stream",
     "text": [
      "Fitting 5 folds for each of 81 candidates, totalling 405 fits\n",
      "Best hyperparameters for Perceptron: {'alpha': 0.0001, 'eta0': 0.01, 'max_iter': 1000, 'tol': 0.0001}\n",
      "Best cross-validated accuracy: 73.13%\n"
     ]
    }
   ],
   "source": [
    "from sklearn.model_selection import GridSearchCV\n",
    "\n",
    "# Define the hyperparameter grid for the Perceptron\n",
    "param_grid = {\n",
    "    'max_iter': [1000, 1500, 2000],  # Number of iterations (epochs)\n",
    "    'alpha': [0.0001, 0.001, 0.01],  # Regularization strength\n",
    "    'eta0': [0.01, 0.1, 1],          # Initial learning rate\n",
    "    'tol': [1e-3, 1e-4, 1e-5]        # Tolerance for stopping criteria\n",
    "}\n",
    "\n",
    "# Initialize the Perceptron model\n",
    "perceptron_model = Perceptron()\n",
    "\n",
    "# Initialize GridSearchCV with 5-fold cross-validation\n",
    "grid_search = GridSearchCV(perceptron_model, param_grid, cv=5, scoring='accuracy', verbose=1)\n",
    "\n",
    "# Perform the grid search on the training data\n",
    "grid_search.fit(X_train_cleaned_imputed, y_train_cleaned)\n",
    "\n",
    "# Get the best parameters and best score\n",
    "best_params = grid_search.best_params_\n",
    "best_score = grid_search.best_score_\n",
    "\n",
    "print(f\"Best hyperparameters for Perceptron: {best_params}\")\n",
    "print(f\"Best cross-validated accuracy: {best_score * 100:.2f}%\")"
   ]
  },
  {
   "cell_type": "markdown",
   "metadata": {},
   "source": [
    "### Evaluating the Tuned Perceptron Model"
   ]
  },
  {
   "cell_type": "code",
   "execution_count": 10,
   "metadata": {},
   "outputs": [
    {
     "name": "stdout",
     "output_type": "stream",
     "text": [
      "Tuned Perceptron Accuracy: 79.22%\n",
      "Classification Report for Tuned Perceptron:\n",
      "              precision    recall  f1-score   support\n",
      "\n",
      "          -1       0.76      0.62      0.68        55\n",
      "           1       0.81      0.89      0.85        99\n",
      "\n",
      "    accuracy                           0.79       154\n",
      "   macro avg       0.78      0.75      0.76       154\n",
      "weighted avg       0.79      0.79      0.79       154\n",
      "\n"
     ]
    }
   ],
   "source": [
    "# Train the Perceptron model with the best hyperparameters\n",
    "perceptron_best_model = grid_search.best_estimator_\n",
    "\n",
    "# Predict on the test set\n",
    "y_pred_perceptron_best = perceptron_best_model.predict(X_test_cleaned_imputed)\n",
    "\n",
    "# Evaluate the tuned Perceptron model\n",
    "accuracy_perceptron_best = accuracy_score(y_test_cleaned, y_pred_perceptron_best)\n",
    "print(f'Tuned Perceptron Accuracy: {accuracy_perceptron_best * 100:.2f}%')\n",
    "\n",
    "# Display classification report for tuned Perceptron model\n",
    "print(\"Classification Report for Tuned Perceptron:\")\n",
    "print(classification_report(y_test_cleaned, y_pred_perceptron_best))"
   ]
  },
  {
   "cell_type": "markdown",
   "metadata": {},
   "source": [
    "### Cross-Validation; Use a Pipeline to Handle Missing Values and Perceptron"
   ]
  },
  {
   "cell_type": "code",
   "execution_count": 12,
   "metadata": {},
   "outputs": [
    {
     "name": "stdout",
     "output_type": "stream",
     "text": [
      "Cross-validation scores: [0.73376623 0.77922078 0.77922078 0.39869281 0.69934641]\n",
      "Mean cross-validation accuracy: 67.80%\n"
     ]
    }
   ],
   "source": [
    "from sklearn.pipeline import Pipeline\n",
    "from sklearn.impute import SimpleImputer\n",
    "from sklearn.model_selection import cross_val_score\n",
    "\n",
    "# Create a pipeline that imputes missing values and then applies the Perceptron model\n",
    "pipeline = Pipeline(steps=[\n",
    "    ('imputer', SimpleImputer(strategy='mean')),  # Handle missing values\n",
    "    ('perceptron', perceptron_best_model)         # Tuned Perceptron model\n",
    "])\n",
    "\n",
    "# Perform 5-fold cross-validation using the pipeline\n",
    "cv_scores = cross_val_score(pipeline, X_cleaned, y_cleaned, cv=5)\n",
    "\n",
    "# Display the cross-validation results\n",
    "print(f\"Cross-validation scores: {cv_scores}\")\n",
    "print(f\"Mean cross-validation accuracy: {cv_scores.mean() * 100:.2f}%\")"
   ]
  },
  {
   "cell_type": "code",
   "execution_count": null,
   "metadata": {},
   "outputs": [],
   "source": []
  },
  {
   "cell_type": "code",
   "execution_count": null,
   "metadata": {},
   "outputs": [],
   "source": []
  },
  {
   "cell_type": "code",
   "execution_count": 13,
   "metadata": {},
   "outputs": [
    {
     "name": "stdout",
     "output_type": "stream",
     "text": [
      "Label\n",
      " 1    500\n",
      "-1    268\n",
      "Name: count, dtype: int64\n"
     ]
    }
   ],
   "source": [
    "print(y_cleaned.value_counts())"
   ]
  },
  {
   "cell_type": "code",
   "execution_count": null,
   "metadata": {},
   "outputs": [],
   "source": []
  }
 ],
 "metadata": {
  "kernelspec": {
   "display_name": "Python 3",
   "language": "python",
   "name": "python3"
  },
  "language_info": {
   "codemirror_mode": {
    "name": "ipython",
    "version": 3
   },
   "file_extension": ".py",
   "mimetype": "text/x-python",
   "name": "python",
   "nbconvert_exporter": "python",
   "pygments_lexer": "ipython3",
   "version": "3.12.3"
  }
 },
 "nbformat": 4,
 "nbformat_minor": 2
}
